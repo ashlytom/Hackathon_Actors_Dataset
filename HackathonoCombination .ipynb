{
 "cells": [
  {
   "cell_type": "code",
   "execution_count": null,
   "id": "27230abe",
   "metadata": {
    "colab": {
     "base_uri": "https://localhost:8080/"
    },
    "id": "sDPdJYFHh4fG",
    "outputId": "9c075af5-5d38-40f7-a9ec-1517dc39c0c4"
   },
   "outputs": [
    {
     "name": "stdout",
     "output_type": "stream",
     "text": [
      "Collecting split-folders\n",
      "  Downloading https://files.pythonhosted.org/packages/b8/5f/3c2b2f7ea5e047c8cdc3bb00ae582c5438fcdbbedcc23b3cc1c2c7aae642/split_folders-0.4.3-py3-none-any.whl\n",
      "Installing collected packages: split-folders\n",
      "Successfully installed split-folders-0.4.3\n"
     ]
    }
   ],
   "source": [
    "! pip install split-folders"
   ]
  },
  {
   "cell_type": "code",
   "execution_count": null,
   "id": "35e9b052",
   "metadata": {
    "id": "fancy-hungary"
   },
   "outputs": [],
   "source": [
    "import numpy as np\n",
    "import pandas as pd\n",
    "import matplotlib.pyplot as plt\n",
    "import zipfile\n",
    "import os\n",
    "import random\n",
    "import cv2\n",
    "from google.colab.patches import cv2_imshow as imshow\n",
    "import sklearn\n",
    "import tensorflow as tf\n",
    "import gdown\n",
    "import pandas as pd\n",
    "from imageio import imread\n",
    "\n",
    "from sklearn.model_selection import train_test_split\n",
    "from keras.callbacks import ReduceLROnPlateau, CSVLogger, EarlyStopping\n",
    "\n",
    "import matplotlib.pyplot as plt\n",
    "import seaborn as sns\n",
    "import keras\n",
    "\n",
    "from tensorflow.keras.models import Model, Sequential\n",
    "from tensorflow.keras.layers import Conv2D, MaxPooling2D, UpSampling2D, Dropout, BatchNormalization, Input, Flatten, Dense, Reshape"
   ]
  },
  {
   "cell_type": "code",
   "execution_count": null,
   "id": "80d05cb8",
   "metadata": {
    "colab": {
     "base_uri": "https://localhost:8080/",
     "height": 102
    },
    "id": "-flGHP6xrno2",
    "outputId": "96c2f15a-2f00-4e29-c799-033c1fb7e6c5"
   },
   "outputs": [
    {
     "name": "stderr",
     "output_type": "stream",
     "text": [
      "Downloading...\n",
      "From: https://drive.google.com/uc?export=download&id=1Sp4X__qo6XSR17_uBF68tP7EkQPHwO-m\n",
      "To: /content/train.zip\n",
      "50.2MB [00:00, 64.9MB/s]\n"
     ]
    },
    {
     "data": {
      "application/vnd.google.colaboratory.intrinsic+json": {
       "type": "string"
      },
      "text/plain": [
       "'train.zip'"
      ]
     },
     "execution_count": 3,
     "metadata": {
      "tags": []
     },
     "output_type": "execute_result"
    }
   ],
   "source": [
    "url = 'https://drive.google.com/uc?export=download&id=1Sp4X__qo6XSR17_uBF68tP7EkQPHwO-m'\n",
    "output = 'train.zip'\n",
    "gdown.download(url, output, quiet=False)"
   ]
  },
  {
   "cell_type": "code",
   "execution_count": null,
   "id": "913184b9",
   "metadata": {
    "colab": {
     "base_uri": "https://localhost:8080/",
     "height": 102
    },
    "id": "CDfK4Tp3uWwU",
    "outputId": "fb9fca5a-052d-4fd2-c6e6-f94e24a1f8c5"
   },
   "outputs": [
    {
     "name": "stderr",
     "output_type": "stream",
     "text": [
      "Downloading...\n",
      "From: https://drive.google.com/uc?export=download&id=1iUsQ3ZTPX6g7zE9ubKllYhZeOTi9eoUC\n",
      "To: /content/test.zip\n",
      "17.0MB [00:00, 48.3MB/s]\n"
     ]
    },
    {
     "data": {
      "application/vnd.google.colaboratory.intrinsic+json": {
       "type": "string"
      },
      "text/plain": [
       "'test.zip'"
      ]
     },
     "execution_count": 4,
     "metadata": {
      "tags": []
     },
     "output_type": "execute_result"
    }
   ],
   "source": [
    "url = 'https://drive.google.com/uc?export=download&id=1iUsQ3ZTPX6g7zE9ubKllYhZeOTi9eoUC'\n",
    "output = 'test.zip'\n",
    "gdown.download(url, output, quiet=False)"
   ]
  },
  {
   "cell_type": "markdown",
   "id": "2334dc7a",
   "metadata": {
    "id": "organizational-craps"
   },
   "source": [
    "Using Tensorflow-Gpu version "
   ]
  },
  {
   "cell_type": "code",
   "execution_count": null,
   "id": "7c32cb79",
   "metadata": {
    "colab": {
     "base_uri": "https://localhost:8080/"
    },
    "id": "impressed-courtesy",
    "outputId": "05bf03ec-ba4c-493c-c4b0-85720a83fedd"
   },
   "outputs": [
    {
     "name": "stdout",
     "output_type": "stream",
     "text": [
      "2.4.1\n"
     ]
    }
   ],
   "source": [
    " print(tf.__version__)"
   ]
  },
  {
   "cell_type": "code",
   "execution_count": null,
   "id": "9d5f07f7",
   "metadata": {
    "colab": {
     "base_uri": "https://localhost:8080/"
    },
    "id": "adult-europe",
    "outputId": "9884bd58-04a6-4ea2-b02b-90993949a963"
   },
   "outputs": [
    {
     "name": "stdout",
     "output_type": "stream",
     "text": [
      "Num GPUs: 1\n"
     ]
    }
   ],
   "source": [
    "physical_devices = tf.config.list_physical_devices('GPU')\n",
    "print(\"Num GPUs:\", len(physical_devices))"
   ]
  },
  {
   "cell_type": "code",
   "execution_count": null,
   "id": "c2866737",
   "metadata": {
    "colab": {
     "base_uri": "https://localhost:8080/"
    },
    "id": "indirect-national",
    "outputId": "484ed190-094a-4d5a-e719-bb68c4c50d4a"
   },
   "outputs": [
    {
     "name": "stdout",
     "output_type": "stream",
     "text": [
      "Default GPU Device:/device:GPU:0\n"
     ]
    }
   ],
   "source": [
    "import tensorflow as tf \n",
    "\n",
    "if tf.test.gpu_device_name(): \n",
    "\n",
    "    print('Default GPU Device:{}'.format(tf.test.gpu_device_name()))\n",
    "\n",
    "else:\n",
    "\n",
    "    print(\"Please install GPU version of TF\")"
   ]
  },
  {
   "cell_type": "code",
   "execution_count": null,
   "id": "14834f2f",
   "metadata": {
    "id": "eCjCJ1sDuk2P"
   },
   "outputs": [],
   "source": [
    "train_zip = '/content/train.zip'\n",
    "zip_ref = zipfile.ZipFile(train_zip, 'r')\n",
    "zip_ref.extractall('/content/')\n",
    "zip_ref.close()"
   ]
  },
  {
   "cell_type": "code",
   "execution_count": null,
   "id": "fb48b9f7",
   "metadata": {
    "id": "fIGl3fgxyJ-1"
   },
   "outputs": [],
   "source": [
    "test_zip = '/content/test.zip'\n",
    "zip_ref = zipfile.ZipFile(test_zip, 'r')\n",
    "zip_ref.extractall('/content/')\n",
    "zip_ref.close()"
   ]
  },
  {
   "cell_type": "markdown",
   "id": "1eb95aa8",
   "metadata": {
    "id": "settled-circulation"
   },
   "source": [
    "## Importing the Image into the Program"
   ]
  },
  {
   "cell_type": "code",
   "execution_count": null,
   "id": "35b290cf",
   "metadata": {
    "colab": {
     "base_uri": "https://localhost:8080/"
    },
    "id": "liberal-robert",
    "outputId": "e98ab8f5-5ed9-4c98-9512-7b7b4921d013"
   },
   "outputs": [
    {
     "name": "stdout",
     "output_type": "stream",
     "text": [
      "Populating the interactive namespace from numpy and matplotlib\n"
     ]
    },
    {
     "name": "stderr",
     "output_type": "stream",
     "text": [
      "/usr/local/lib/python3.7/dist-packages/IPython/core/magics/pylab.py:161: UserWarning: pylab import has clobbered these variables: ['imshow', 'random', 'imread']\n",
      "`%matplotlib` prevents importing * from pylab and numpy\n",
      "  \"\\n`%matplotlib` prevents importing * from pylab and numpy\"\n"
     ]
    }
   ],
   "source": [
    "%pylab inline\n",
    "import os\n",
    "import random\n",
    "\n",
    "import pandas as pd\n",
    "from imageio import imread"
   ]
  },
  {
   "cell_type": "markdown",
   "id": "a4091f34",
   "metadata": {
    "id": "brown-newton"
   },
   "source": [
    "## Loading the CSV files"
   ]
  },
  {
   "cell_type": "code",
   "execution_count": null,
   "id": "63f59bfc",
   "metadata": {
    "id": "imposed-birmingham"
   },
   "outputs": [],
   "source": [
    "root_dir = os.path.abspath('/content/')\n",
    "data_dir = '/content/'\n",
    "\n",
    "train = pd.read_csv(os.path.join(data_dir, 'train.csv'))\n",
    "test = pd.read_csv(os.path.join(data_dir, 'test.csv'))"
   ]
  },
  {
   "cell_type": "markdown",
   "id": "4eac030b",
   "metadata": {
    "id": "intensive-liberal"
   },
   "source": [
    "## Print an image"
   ]
  },
  {
   "cell_type": "code",
   "execution_count": null,
   "id": "e7c019e7",
   "metadata": {
    "colab": {
     "base_uri": "https://localhost:8080/"
    },
    "id": "invalid-salad",
    "outputId": "06a36135-0ef3-46fc-afed-614ebae13011"
   },
   "outputs": [
    {
     "name": "stdout",
     "output_type": "stream",
     "text": [
      "Age:  MIDDLE\n"
     ]
    }
   ],
   "source": [
    "i = random.choice(train.index)\n",
    "\n",
    "img_name = train.ID[i]\n",
    "img = imread(os.path.join(data_dir, 'Train', img_name))\n",
    "\n",
    "print('Age: ', train.Class[i])"
   ]
  },
  {
   "cell_type": "code",
   "execution_count": null,
   "id": "9df9fc32",
   "metadata": {
    "colab": {
     "base_uri": "https://localhost:8080/",
     "height": 286
    },
    "id": "exempt-pakistan",
    "outputId": "a47d75c0-270a-4cbd-aba1-b5c2b4f6767e"
   },
   "outputs": [
    {
     "data": {
      "text/plain": [
       "<matplotlib.image.AxesImage at 0x7f81a01c9810>"
      ]
     },
     "execution_count": 13,
     "metadata": {
      "tags": []
     },
     "output_type": "execute_result"
    },
    {
     "data": {
      "image/png": "[encoded data removed]",
      "text/plain": [
       "<Figure size 432x288 with 1 Axes>"
      ]
     },
     "metadata": {
      "needs_background": "light",
      "tags": []
     },
     "output_type": "display_data"
    }
   ],
   "source": [
    "imshow(img)"
   ]
  },
  {
   "cell_type": "markdown",
   "id": "f6722203",
   "metadata": {
    "id": "veterinary-payday"
   },
   "source": [
    "Image importing DONE!!!"
   ]
  },
  {
   "cell_type": "markdown",
   "id": "bb2ba487",
   "metadata": {
    "id": "ongoing-clearing"
   },
   "source": [
    "## Resizing the Image | Train and Test"
   ]
  },
  {
   "cell_type": "code",
   "execution_count": null,
   "id": "a1d1b74f",
   "metadata": {
    "id": "upset-pillow"
   },
   "outputs": [],
   "source": [
    "from skimage.transform import resize\n",
    "\n",
    "temp = []\n",
    "for img_name in train.ID:\n",
    "    img_path = os.path.join(data_dir, 'Train', img_name)\n",
    "    img = imread(img_path)\n",
    "    img = resize(img, (64, 64))\n",
    "    img = img.astype('float32') # this will help us in later stage\n",
    "    temp.append(img)\n",
    "train_x = np.stack(temp)"
   ]
  },
  {
   "cell_type": "code",
   "execution_count": null,
   "id": "b9883572",
   "metadata": {
    "id": "specific-edgar"
   },
   "outputs": [],
   "source": [
    "temp = []\n",
    "for img_name in test.ID:\n",
    "    img_path = os.path.join(data_dir, 'Test', img_name)\n",
    "    img = imread(img_path)\n",
    "    img = resize(img, (64, 64))\n",
    "    temp.append(img.astype('float32'))\n",
    "\n",
    "test_x = np.stack(temp)"
   ]
  },
  {
   "cell_type": "markdown",
   "id": "3a44159b",
   "metadata": {
    "id": "pretty-experience"
   },
   "source": [
    "## Normalising the Data"
   ]
  },
  {
   "cell_type": "code",
   "execution_count": null,
   "id": "fb7a7f8e",
   "metadata": {
    "id": "ordered-livestock"
   },
   "outputs": [],
   "source": [
    "train_x = train_x / 255.\n",
    "test_x = test_x / 255."
   ]
  },
  {
   "cell_type": "markdown",
   "id": "247dc4f3",
   "metadata": {
    "id": "heated-tuition"
   },
   "source": [
    "# Finding the Distribution of the classes"
   ]
  },
  {
   "cell_type": "code",
   "execution_count": null,
   "id": "9101900b",
   "metadata": {
    "colab": {
     "base_uri": "https://localhost:8080/"
    },
    "id": "distinct-learning",
    "outputId": "15dad8cc-40ce-4216-f6b7-a332432eb2c0"
   },
   "outputs": [
    {
     "data": {
      "text/plain": [
       "MIDDLE    0.542751\n",
       "YOUNG     0.336883\n",
       "OLD       0.120366\n",
       "Name: Class, dtype: float64"
      ]
     },
     "execution_count": 17,
     "metadata": {
      "tags": []
     },
     "output_type": "execute_result"
    }
   ],
   "source": [
    "train.Class.value_counts(normalize=True)"
   ]
  },
  {
   "cell_type": "code",
   "execution_count": null,
   "id": "eee7a4d9",
   "metadata": {
    "id": "architectural-chrome"
   },
   "outputs": [],
   "source": [
    "#test['Class'] = 'MIDDLE'\n",
    "#test.to_csv('Trial1.csv', index=False)"
   ]
  },
  {
   "cell_type": "markdown",
   "id": "1217b028",
   "metadata": {
    "id": "selective-kansas"
   },
   "source": [
    "### Notes:\n",
    "So we can see that when we made the Entire Output file as \"MIDDLE\" class, due to the high number of MIDDLE classes we automatically got a result greater than 50%."
   ]
  },
  {
   "cell_type": "markdown",
   "id": "ee316c8e",
   "metadata": {
    "id": "thorough-driver"
   },
   "source": [
    "## Creating a Model"
   ]
  },
  {
   "cell_type": "markdown",
   "id": "8695e8be",
   "metadata": {
    "id": "crucial-builder"
   },
   "source": [
    "We made the output into a Categorical Value for Training the Neural Net."
   ]
  },
  {
   "cell_type": "code",
   "execution_count": null,
   "id": "6b12a030",
   "metadata": {
    "id": "sqyT4x9Zz0_Q"
   },
   "outputs": [],
   "source": [
    "lr_reducer = ReduceLROnPlateau(factor=np.sqrt(0.1), cooldown=0, patience=5, min_lr=0.5e-6)\n",
    "early_stopper = EarlyStopping(min_delta=0.001, patience=20)"
   ]
  },
  {
   "cell_type": "code",
   "execution_count": null,
   "id": "1722a81c",
   "metadata": {
    "id": "molecular-settlement"
   },
   "outputs": [],
   "source": [
    "from sklearn.preprocessing import LabelEncoder\n",
    "from keras.utils import to_categorical\n",
    "\n",
    "lb = LabelEncoder()\n",
    "train_y = lb.fit_transform(train.Class)\n",
    "train_y = to_categorical(train_y)"
   ]
  },
  {
   "cell_type": "markdown",
   "id": "a8806674",
   "metadata": {
    "id": "minor-linux"
   },
   "source": [
    "Specifying the Parameters"
   ]
  },
  {
   "cell_type": "markdown",
   "id": "ca92c02e",
   "metadata": {
    "id": "veterinary-operation"
   },
   "source": [
    "Import Neccessary Modules"
   ]
  },
  {
   "cell_type": "code",
   "execution_count": null,
   "id": "a9e4167c",
   "metadata": {
    "id": "catholic-voluntary"
   },
   "outputs": [],
   "source": [
    "from keras.models import Sequential\n",
    "from keras.layers import Dense, Flatten, InputLayer,Conv2D, MaxPooling2D,Activation, Dropout"
   ]
  },
  {
   "cell_type": "code",
   "execution_count": null,
   "id": "68cf619c",
   "metadata": {
    "id": "e0QTuOWupHe7"
   },
   "outputs": [],
   "source": [
    "input_shape=(64, 64, 3)"
   ]
  },
  {
   "cell_type": "code",
   "execution_count": null,
   "id": "d0440523",
   "metadata": {
    "id": "standard-backup"
   },
   "outputs": [],
   "source": [
    "model = Sequential()\n",
    "\n",
    "model.add(Conv2D(30, kernel_size=5, activation='relu', input_shape=(64, 64, 3)))\n",
    "#model.add(Dropout(0.4))\n",
    "#model.add(Conv2D(60, kernel_size=5, activation='relu', input_shape=(64, 64, 3)))\n",
    "model.add(BatchNormalization())\n",
    "model.add(MaxPooling2D(pool_size=(2,2)))\n",
    "model.add(Dropout(0.32))\n",
    "\n",
    "model.add(Conv2D(150, kernel_size=3, activation='relu'))\n",
    "#model.add(BatchNormalization())\n",
    "#model.add(Conv2D(125, kernel_size=3, activation='relu'))\n",
    "model.add(BatchNormalization())\n",
    "model.add(MaxPooling2D(pool_size=(2,2)))\n",
    "model.add(Dropout(0.32))\n",
    "\n",
    "#model.add(Conv2D(155, kernel_size=3, activation='relu'))\n",
    "#model.add(BatchNormalization())\n",
    "model.add(Conv2D(32, kernel_size=3, activation='relu'))\n",
    "model.add(BatchNormalization())\n",
    "model.add(MaxPooling2D(pool_size=(2,2)))\n",
    "model.add(Dropout(0.32))\n",
    "\n",
    "\n",
    "\n",
    "model.add(Flatten())\n",
    "\n",
    "model.add(Dense(500, activation='relu'))\n",
    "model.add(Dropout(0.5))\n",
    "model.add(Dense(100, activation='relu'))\n",
    "model.add(Dense(3, activation='softmax'))\n",
    "\n"
   ]
  },
  {
   "cell_type": "code",
   "execution_count": null,
   "id": "2c3ba363",
   "metadata": {
    "colab": {
     "base_uri": "https://localhost:8080/"
    },
    "id": "cutting-prize",
    "outputId": "dd8eb907-9f4c-48f2-ea3b-b81377f3b184"
   },
   "outputs": [
    {
     "name": "stdout",
     "output_type": "stream",
     "text": [
      "Model: \"sequential_15\"\n",
      "_________________________________________________________________\n",
      "Layer (type)                 Output Shape              Param #   \n",
      "=================================================================\n",
      "conv2d_41 (Conv2D)           (None, 60, 60, 30)        2280      \n",
      "_________________________________________________________________\n",
      "batch_normalization_41 (Batc (None, 60, 60, 30)        120       \n",
      "_________________________________________________________________\n",
      "max_pooling2d_41 (MaxPooling (None, 30, 30, 30)        0         \n",
      "_________________________________________________________________\n",
      "dropout_56 (Dropout)         (None, 30, 30, 30)        0         \n",
      "_________________________________________________________________\n",
      "conv2d_42 (Conv2D)           (None, 28, 28, 150)       40650     \n",
      "_________________________________________________________________\n",
      "batch_normalization_42 (Batc (None, 28, 28, 150)       600       \n",
      "_________________________________________________________________\n",
      "max_pooling2d_42 (MaxPooling (None, 14, 14, 150)       0         \n",
      "_________________________________________________________________\n",
      "dropout_57 (Dropout)         (None, 14, 14, 150)       0         \n",
      "_________________________________________________________________\n",
      "conv2d_43 (Conv2D)           (None, 12, 12, 32)        43232     \n",
      "_________________________________________________________________\n",
      "batch_normalization_43 (Batc (None, 12, 12, 32)        128       \n",
      "_________________________________________________________________\n",
      "max_pooling2d_43 (MaxPooling (None, 6, 6, 32)          0         \n",
      "_________________________________________________________________\n",
      "dropout_58 (Dropout)         (None, 6, 6, 32)          0         \n",
      "_________________________________________________________________\n",
      "flatten_15 (Flatten)         (None, 1152)              0         \n",
      "_________________________________________________________________\n",
      "dense_30 (Dense)             (None, 500)               576500    \n",
      "_________________________________________________________________\n",
      "dropout_59 (Dropout)         (None, 500)               0         \n",
      "_________________________________________________________________\n",
      "dense_31 (Dense)             (None, 100)               50100     \n",
      "_________________________________________________________________\n",
      "dense_32 (Dense)             (None, 3)                 303       \n",
      "=================================================================\n",
      "Total params: 713,913\n",
      "Trainable params: 713,489\n",
      "Non-trainable params: 424\n",
      "_________________________________________________________________\n"
     ]
    }
   ],
   "source": [
    "model.summary()"
   ]
  },
  {
   "cell_type": "code",
   "execution_count": null,
   "id": "9d50736d",
   "metadata": {
    "id": "sGL74GjgA6gr"
   },
   "outputs": [],
   "source": [
    "#Setting the parameters for Adam\n",
    "#keras.optimizers.Adam(lr=0.02, beta_1=0.9, beta_2=0.999, epsilon=1e-04, decay=0.0000)"
   ]
  },
  {
   "cell_type": "code",
   "execution_count": null,
   "id": "3cac04d0",
   "metadata": {
    "colab": {
     "base_uri": "https://localhost:8080/"
    },
    "id": "daily-venue",
    "outputId": "7103c506-825c-4e90-d972-34d5365681e0"
   },
   "outputs": [
    {
     "name": "stdout",
     "output_type": "stream",
     "text": [
      "Epoch 1/100\n",
      "80/80 [==============================] - 3s 30ms/step - loss: 1.2577 - accuracy: 0.5098 - val_loss: 1.6807 - val_accuracy: 0.1163\n",
      "Epoch 2/100\n",
      "80/80 [==============================] - 2s 27ms/step - loss: 0.8580 - accuracy: 0.5996 - val_loss: 3.1489 - val_accuracy: 0.1163\n",
      "Epoch 3/100\n",
      "80/80 [==============================] - 2s 28ms/step - loss: 0.8049 - accuracy: 0.6305 - val_loss: 4.8046 - val_accuracy: 0.1163\n",
      "Epoch 4/100\n",
      "80/80 [==============================] - 2s 28ms/step - loss: 0.7707 - accuracy: 0.6583 - val_loss: 4.1790 - val_accuracy: 0.1163\n",
      "Epoch 5/100\n",
      "80/80 [==============================] - 2s 28ms/step - loss: 0.7367 - accuracy: 0.6832 - val_loss: 3.3553 - val_accuracy: 0.1163\n",
      "Epoch 6/100\n",
      "80/80 [==============================] - 2s 28ms/step - loss: 0.7039 - accuracy: 0.6917 - val_loss: 3.1002 - val_accuracy: 0.1163\n",
      "Epoch 7/100\n",
      "80/80 [==============================] - 2s 28ms/step - loss: 0.6792 - accuracy: 0.7017 - val_loss: 2.6130 - val_accuracy: 0.1256\n",
      "Epoch 8/100\n",
      "80/80 [==============================] - 2s 27ms/step - loss: 0.6689 - accuracy: 0.7054 - val_loss: 1.4986 - val_accuracy: 0.4636\n",
      "Epoch 9/100\n",
      "80/80 [==============================] - 2s 28ms/step - loss: 0.6509 - accuracy: 0.7199 - val_loss: 1.0193 - val_accuracy: 0.5628\n",
      "Epoch 10/100\n",
      "80/80 [==============================] - 2s 28ms/step - loss: 0.6433 - accuracy: 0.7232 - val_loss: 0.7702 - val_accuracy: 0.6775\n",
      "Epoch 11/100\n",
      "80/80 [==============================] - 2s 28ms/step - loss: 0.6351 - accuracy: 0.7269 - val_loss: 0.8424 - val_accuracy: 0.6416\n",
      "Epoch 12/100\n",
      "80/80 [==============================] - 2s 28ms/step - loss: 0.6167 - accuracy: 0.7342 - val_loss: 0.6541 - val_accuracy: 0.7260\n",
      "Epoch 13/100\n",
      "80/80 [==============================] - 2s 27ms/step - loss: 0.6007 - accuracy: 0.7411 - val_loss: 0.6339 - val_accuracy: 0.7315\n",
      "Epoch 14/100\n",
      "80/80 [==============================] - 2s 28ms/step - loss: 0.5899 - accuracy: 0.7473 - val_loss: 0.6456 - val_accuracy: 0.7240\n",
      "Epoch 15/100\n",
      "80/80 [==============================] - 2s 28ms/step - loss: 0.5857 - accuracy: 0.7496 - val_loss: 0.6146 - val_accuracy: 0.7328\n",
      "Epoch 16/100\n",
      "80/80 [==============================] - 2s 27ms/step - loss: 0.5737 - accuracy: 0.7564 - val_loss: 0.6262 - val_accuracy: 0.7366\n",
      "Epoch 17/100\n",
      "80/80 [==============================] - 2s 28ms/step - loss: 0.5636 - accuracy: 0.7606 - val_loss: 0.6767 - val_accuracy: 0.7258\n",
      "Epoch 18/100\n",
      "80/80 [==============================] - 2s 28ms/step - loss: 0.5425 - accuracy: 0.7732 - val_loss: 0.6826 - val_accuracy: 0.7230\n",
      "Epoch 19/100\n",
      "80/80 [==============================] - 2s 28ms/step - loss: 0.5489 - accuracy: 0.7669 - val_loss: 0.5678 - val_accuracy: 0.7649\n",
      "Epoch 20/100\n",
      "80/80 [==============================] - 2s 28ms/step - loss: 0.5310 - accuracy: 0.7751 - val_loss: 0.5758 - val_accuracy: 0.7639\n",
      "Epoch 21/100\n",
      "80/80 [==============================] - 2s 28ms/step - loss: 0.5213 - accuracy: 0.7784 - val_loss: 0.5867 - val_accuracy: 0.7562\n",
      "Epoch 22/100\n",
      "80/80 [==============================] - 2s 28ms/step - loss: 0.5234 - accuracy: 0.7822 - val_loss: 0.5958 - val_accuracy: 0.7529\n",
      "Epoch 23/100\n",
      "80/80 [==============================] - 2s 28ms/step - loss: 0.5060 - accuracy: 0.7906 - val_loss: 0.7355 - val_accuracy: 0.7012\n",
      "Epoch 24/100\n",
      "80/80 [==============================] - 2s 27ms/step - loss: 0.5001 - accuracy: 0.7893 - val_loss: 0.5498 - val_accuracy: 0.7777\n",
      "Epoch 25/100\n",
      "80/80 [==============================] - 2s 28ms/step - loss: 0.4958 - accuracy: 0.7936 - val_loss: 0.5638 - val_accuracy: 0.7662\n",
      "Epoch 26/100\n",
      "80/80 [==============================] - 2s 28ms/step - loss: 0.4725 - accuracy: 0.8073 - val_loss: 0.5617 - val_accuracy: 0.7664\n",
      "Epoch 27/100\n",
      "80/80 [==============================] - 2s 28ms/step - loss: 0.4565 - accuracy: 0.8146 - val_loss: 0.5634 - val_accuracy: 0.7705\n",
      "Epoch 28/100\n",
      "80/80 [==============================] - 2s 27ms/step - loss: 0.4752 - accuracy: 0.8077 - val_loss: 0.5848 - val_accuracy: 0.7579\n",
      "Epoch 29/100\n",
      "80/80 [==============================] - 2s 28ms/step - loss: 0.4477 - accuracy: 0.8132 - val_loss: 0.6131 - val_accuracy: 0.7536\n",
      "Epoch 30/100\n",
      "80/80 [==============================] - 2s 28ms/step - loss: 0.4313 - accuracy: 0.8224 - val_loss: 0.5210 - val_accuracy: 0.7823\n",
      "Epoch 31/100\n",
      "80/80 [==============================] - 2s 28ms/step - loss: 0.4253 - accuracy: 0.8260 - val_loss: 0.5270 - val_accuracy: 0.7860\n",
      "Epoch 32/100\n",
      "80/80 [==============================] - 2s 28ms/step - loss: 0.4199 - accuracy: 0.8284 - val_loss: 0.5315 - val_accuracy: 0.7808\n",
      "Epoch 33/100\n",
      "80/80 [==============================] - 2s 28ms/step - loss: 0.4223 - accuracy: 0.8253 - val_loss: 0.5262 - val_accuracy: 0.7830\n",
      "Epoch 34/100\n",
      "80/80 [==============================] - 2s 27ms/step - loss: 0.4193 - accuracy: 0.8331 - val_loss: 0.5221 - val_accuracy: 0.7835\n",
      "Epoch 35/100\n",
      "80/80 [==============================] - 2s 28ms/step - loss: 0.4153 - accuracy: 0.8286 - val_loss: 0.5138 - val_accuracy: 0.7870\n",
      "Epoch 36/100\n",
      "80/80 [==============================] - 2s 28ms/step - loss: 0.3993 - accuracy: 0.8368 - val_loss: 0.5272 - val_accuracy: 0.7833\n",
      "Epoch 37/100\n",
      "80/80 [==============================] - 2s 28ms/step - loss: 0.4039 - accuracy: 0.8370 - val_loss: 0.5099 - val_accuracy: 0.7936\n",
      "Epoch 38/100\n",
      "80/80 [==============================] - 2s 27ms/step - loss: 0.3961 - accuracy: 0.8414 - val_loss: 0.5126 - val_accuracy: 0.7911\n",
      "Epoch 39/100\n",
      "80/80 [==============================] - 2s 28ms/step - loss: 0.4047 - accuracy: 0.8366 - val_loss: 0.5223 - val_accuracy: 0.7873\n",
      "Epoch 40/100\n",
      "80/80 [==============================] - 2s 28ms/step - loss: 0.3971 - accuracy: 0.8366 - val_loss: 0.5191 - val_accuracy: 0.7870\n",
      "Epoch 41/100\n",
      "80/80 [==============================] - 2s 28ms/step - loss: 0.3882 - accuracy: 0.8413 - val_loss: 0.5126 - val_accuracy: 0.7913\n",
      "Epoch 42/100\n",
      "80/80 [==============================] - 2s 28ms/step - loss: 0.3845 - accuracy: 0.8410 - val_loss: 0.5099 - val_accuracy: 0.7901\n",
      "Epoch 43/100\n",
      "80/80 [==============================] - 2s 28ms/step - loss: 0.3878 - accuracy: 0.8415 - val_loss: 0.5098 - val_accuracy: 0.7961\n",
      "Epoch 44/100\n",
      "80/80 [==============================] - 2s 28ms/step - loss: 0.3763 - accuracy: 0.8478 - val_loss: 0.5158 - val_accuracy: 0.7943\n",
      "Epoch 45/100\n",
      "80/80 [==============================] - 2s 28ms/step - loss: 0.3858 - accuracy: 0.8436 - val_loss: 0.5080 - val_accuracy: 0.7916\n",
      "Epoch 46/100\n",
      "80/80 [==============================] - 2s 28ms/step - loss: 0.3812 - accuracy: 0.8448 - val_loss: 0.5058 - val_accuracy: 0.7961\n",
      "Epoch 47/100\n",
      "80/80 [==============================] - 2s 28ms/step - loss: 0.3891 - accuracy: 0.8451 - val_loss: 0.5072 - val_accuracy: 0.7963\n",
      "Epoch 48/100\n",
      "80/80 [==============================] - 2s 28ms/step - loss: 0.3724 - accuracy: 0.8504 - val_loss: 0.5014 - val_accuracy: 0.7998\n",
      "Epoch 49/100\n",
      "80/80 [==============================] - 2s 28ms/step - loss: 0.3669 - accuracy: 0.8515 - val_loss: 0.5050 - val_accuracy: 0.7971\n",
      "Epoch 50/100\n",
      "80/80 [==============================] - 2s 28ms/step - loss: 0.3812 - accuracy: 0.8478 - val_loss: 0.5057 - val_accuracy: 0.7928\n",
      "Epoch 51/100\n",
      "80/80 [==============================] - 2s 28ms/step - loss: 0.3834 - accuracy: 0.8453 - val_loss: 0.5088 - val_accuracy: 0.7926\n",
      "Epoch 52/100\n",
      "80/80 [==============================] - 2s 28ms/step - loss: 0.3678 - accuracy: 0.8452 - val_loss: 0.5092 - val_accuracy: 0.7943\n",
      "Epoch 53/100\n",
      "80/80 [==============================] - 2s 28ms/step - loss: 0.3723 - accuracy: 0.8475 - val_loss: 0.5002 - val_accuracy: 0.7986\n",
      "Epoch 54/100\n",
      "80/80 [==============================] - 2s 28ms/step - loss: 0.3753 - accuracy: 0.8502 - val_loss: 0.5023 - val_accuracy: 0.7976\n",
      "Epoch 55/100\n",
      "80/80 [==============================] - 2s 28ms/step - loss: 0.3608 - accuracy: 0.8561 - val_loss: 0.5015 - val_accuracy: 0.7998\n",
      "Epoch 56/100\n",
      "80/80 [==============================] - 2s 28ms/step - loss: 0.3737 - accuracy: 0.8480 - val_loss: 0.5045 - val_accuracy: 0.7963\n",
      "Epoch 57/100\n",
      "80/80 [==============================] - 2s 28ms/step - loss: 0.3672 - accuracy: 0.8503 - val_loss: 0.5044 - val_accuracy: 0.7931\n",
      "Epoch 58/100\n",
      "80/80 [==============================] - 2s 28ms/step - loss: 0.3584 - accuracy: 0.8528 - val_loss: 0.5012 - val_accuracy: 0.7951\n",
      "Epoch 59/100\n",
      "80/80 [==============================] - 2s 28ms/step - loss: 0.3628 - accuracy: 0.8561 - val_loss: 0.4990 - val_accuracy: 0.7966\n",
      "Epoch 60/100\n",
      "80/80 [==============================] - 2s 28ms/step - loss: 0.3685 - accuracy: 0.8535 - val_loss: 0.4997 - val_accuracy: 0.7983\n",
      "Epoch 61/100\n",
      "80/80 [==============================] - 2s 28ms/step - loss: 0.3560 - accuracy: 0.8563 - val_loss: 0.5018 - val_accuracy: 0.7998\n",
      "Epoch 62/100\n",
      "80/80 [==============================] - 2s 28ms/step - loss: 0.3587 - accuracy: 0.8528 - val_loss: 0.5000 - val_accuracy: 0.8001\n",
      "Epoch 63/100\n",
      "80/80 [==============================] - 2s 28ms/step - loss: 0.3601 - accuracy: 0.8586 - val_loss: 0.5006 - val_accuracy: 0.7963\n",
      "Epoch 64/100\n",
      "80/80 [==============================] - 2s 28ms/step - loss: 0.3783 - accuracy: 0.8473 - val_loss: 0.5003 - val_accuracy: 0.7966\n",
      "Epoch 65/100\n",
      "80/80 [==============================] - 2s 28ms/step - loss: 0.3572 - accuracy: 0.8564 - val_loss: 0.5003 - val_accuracy: 0.7976\n",
      "Epoch 66/100\n",
      "80/80 [==============================] - 2s 28ms/step - loss: 0.3657 - accuracy: 0.8571 - val_loss: 0.4999 - val_accuracy: 0.7981\n",
      "Epoch 67/100\n",
      "80/80 [==============================] - 2s 28ms/step - loss: 0.3691 - accuracy: 0.8490 - val_loss: 0.4998 - val_accuracy: 0.7986\n",
      "Epoch 68/100\n",
      "80/80 [==============================] - 2s 28ms/step - loss: 0.3700 - accuracy: 0.8472 - val_loss: 0.4998 - val_accuracy: 0.7986\n",
      "Epoch 69/100\n",
      "80/80 [==============================] - 2s 28ms/step - loss: 0.3644 - accuracy: 0.8518 - val_loss: 0.4993 - val_accuracy: 0.7981\n",
      "Epoch 70/100\n",
      "80/80 [==============================] - 2s 28ms/step - loss: 0.3679 - accuracy: 0.8558 - val_loss: 0.4996 - val_accuracy: 0.7988\n",
      "Epoch 71/100\n",
      "80/80 [==============================] - 2s 28ms/step - loss: 0.3531 - accuracy: 0.8603 - val_loss: 0.4999 - val_accuracy: 0.7988\n",
      "Epoch 72/100\n",
      "80/80 [==============================] - 2s 28ms/step - loss: 0.3595 - accuracy: 0.8527 - val_loss: 0.4999 - val_accuracy: 0.7988\n",
      "Epoch 73/100\n",
      "80/80 [==============================] - 2s 28ms/step - loss: 0.3574 - accuracy: 0.8513 - val_loss: 0.4998 - val_accuracy: 0.7993\n",
      "Epoch 74/100\n",
      "80/80 [==============================] - 2s 28ms/step - loss: 0.3612 - accuracy: 0.8549 - val_loss: 0.5000 - val_accuracy: 0.7993\n",
      "Epoch 75/100\n",
      "80/80 [==============================] - 2s 28ms/step - loss: 0.3616 - accuracy: 0.8525 - val_loss: 0.4998 - val_accuracy: 0.7993\n",
      "Epoch 76/100\n",
      "80/80 [==============================] - 2s 28ms/step - loss: 0.3603 - accuracy: 0.8508 - val_loss: 0.4997 - val_accuracy: 0.7998\n",
      "Epoch 77/100\n",
      "80/80 [==============================] - 2s 28ms/step - loss: 0.3516 - accuracy: 0.8579 - val_loss: 0.4999 - val_accuracy: 0.7993\n",
      "Epoch 78/100\n",
      "80/80 [==============================] - 2s 28ms/step - loss: 0.3570 - accuracy: 0.8577 - val_loss: 0.4997 - val_accuracy: 0.7993\n",
      "Epoch 79/100\n",
      "80/80 [==============================] - 2s 28ms/step - loss: 0.3690 - accuracy: 0.8538 - val_loss: 0.4996 - val_accuracy: 0.7988\n"
     ]
    },
    {
     "data": {
      "text/plain": [
       "<tensorflow.python.keras.callbacks.History at 0x7f80a4251d90>"
      ]
     },
     "execution_count": 101,
     "metadata": {
      "tags": []
     },
     "output_type": "execute_result"
    }
   ],
   "source": [
    "model.compile(optimizer='adam',loss='categorical_crossentropy',metrics=['accuracy'])\n",
    "model.fit(train_x, train_y, \n",
    "          batch_size=200,\n",
    "          shuffle=True,\n",
    "          epochs=100,verbose=1,\n",
    "          validation_split=0.2,\n",
    "          callbacks=[lr_reducer,early_stopper])"
   ]
  },
  {
   "cell_type": "markdown",
   "id": "e4f5a19c",
   "metadata": {
    "id": "focused-consolidation"
   },
   "source": [
    "Earlier we used our whole trainset, but that was not useful because we couldnt validate it.So we split the training into a Train+Validation Set "
   ]
  },
  {
   "cell_type": "markdown",
   "id": "d9c2ae8d",
   "metadata": {
    "id": "synthetic-sender"
   },
   "source": [
    "So here we resized the image in order to see it and check if our prediction is matching our training  values."
   ]
  },
  {
   "cell_type": "markdown",
   "id": "b45bc07b",
   "metadata": {
    "id": "banner-audio"
   },
   "source": [
    "Creating the result using the trained model with Test as the new input"
   ]
  },
  {
   "cell_type": "code",
   "execution_count": null,
   "id": "23a0ef8f",
   "metadata": {
    "colab": {
     "base_uri": "https://localhost:8080/"
    },
    "id": "computational-kazakhstan",
    "outputId": "198195a2-ef6c-4a65-cbed-6f3ba972a93e"
   },
   "outputs": [
    {
     "name": "stderr",
     "output_type": "stream",
     "text": [
      "/usr/local/lib/python3.7/dist-packages/tensorflow/python/keras/engine/sequential.py:450: UserWarning: `model.predict_classes()` is deprecated and will be removed after 2021-01-01. Please use instead:* `np.argmax(model.predict(x), axis=-1)`,   if your model does multi-class classification   (e.g. if it uses a `softmax` last-layer activation).* `(model.predict(x) > 0.5).astype(\"int32\")`,   if your model does binary classification   (e.g. if it uses a `sigmoid` last-layer activation).\n",
      "  warnings.warn('`model.predict_classes()` is deprecated and '\n"
     ]
    }
   ],
   "source": [
    "pred = model.predict_classes(test_x)\n",
    "pred = lb.inverse_transform(pred)\n",
    "\n",
    "test['Class'] = pred\n",
    "test.to_csv(\"Set82.csv\", index=False)"
   ]
  },
  {
   "cell_type": "markdown",
   "id": "cbde27f6",
   "metadata": {
    "id": "median-basic"
   },
   "source": [
    "Testing"
   ]
  },
  {
   "cell_type": "code",
   "execution_count": null,
   "id": "cae9913a",
   "metadata": {
    "colab": {
     "base_uri": "https://localhost:8080/",
     "height": 338
    },
    "id": "documented-internship",
    "outputId": "3459ea87-c3f5-4a35-f41d-0de82459a825"
   },
   "outputs": [
    {
     "name": "stderr",
     "output_type": "stream",
     "text": [
      "/usr/local/lib/python3.7/dist-packages/tensorflow/python/keras/engine/sequential.py:450: UserWarning: `model.predict_classes()` is deprecated and will be removed after 2021-01-01. Please use instead:* `np.argmax(model.predict(x), axis=-1)`,   if your model does multi-class classification   (e.g. if it uses a `softmax` last-layer activation).* `(model.predict(x) > 0.5).astype(\"int32\")`,   if your model does binary classification   (e.g. if it uses a `sigmoid` last-layer activation).\n",
      "  warnings.warn('`model.predict_classes()` is deprecated and '\n"
     ]
    },
    {
     "name": "stdout",
     "output_type": "stream",
     "text": [
      "Original: MIDDLE Predicted: MIDDLE\n"
     ]
    },
    {
     "data": {
      "image/png": "[encoded data removed]",
      "text/plain": [
       "<Figure size 432x288 with 1 Axes>"
      ]
     },
     "metadata": {
      "needs_background": "light",
      "tags": []
     },
     "output_type": "display_data"
    }
   ],
   "source": [
    "\n",
    "i = random.choice(train.index)\n",
    "img_name = train.ID[i]\n",
    "\n",
    "img = imread(os.path.join(data_dir, 'Train', img_name)).astype('float32')\n",
    "plt.imshow((resize(img, (128, 128))).astype(np.uint8))\n",
    "\n",
    "#The model.predict gives the prediction for the given train set\n",
    "pred = model.predict_classes(train_x)\n",
    "#print(pred)\n",
    "\n",
    "#We then take the prediction set and find if the class it predicted is the one that it is.\n",
    "print('Original:', train.Class[i], 'Predicted:', lb.inverse_transform(pred)[i])"
   ]
  }
 ],
 "metadata": {
  "accelerator": "GPU",
  "colab": {
   "collapsed_sections": [],
   "name": "HackathonoCombination.ipynb",
   "provenance": []
  },
  "kernelspec": {
   "display_name": "Python 3",
   "language": "python",
   "name": "python3"
  },
  "language_info": {
   "codemirror_mode": {
    "name": "ipython",
    "version": 3
   },
   "file_extension": ".py",
   "mimetype": "text/x-python",
   "name": "python",
   "nbconvert_exporter": "python",
   "pygments_lexer": "ipython3",
   "version": "3.8.3"
  }
 },
 "nbformat": 4,
 "nbformat_minor": 5
}
